{
  "cells": [
    {
      "cell_type": "markdown",
      "metadata": {
        "id": "RkZkpr3qbpVT"
      },
      "source": [
        "### Import thư viện\n"
      ]
    },
    {
      "cell_type": "code",
      "execution_count": null,
      "metadata": {
        "id": "o43HsYMod3xO",
        "vscode": {
          "languageId": "python"
        }
      },
      "outputs": [],
      "source": [
        "import pandas as pd\n",
        "import numpy as np\n",
        "from keras.preprocessing.text import Tokenizer\n",
        "from keras.preprocessing.sequence import pad_sequences\n",
        "import matplotlib.pyplot as plt\n",
        "import torch\n",
        "import torch.nn as nn\n",
        "import torch.nn.functional as F\n",
        "from torch import optim\n",
        "from torch.autograd import Variable\n",
        "from sklearn.model_selection import train_test_split\n",
        "import torch.utils.data\n",
        "import matplotlib.pyplot as plt\n",
        "from random import randint"
      ]
    },
    {
      "cell_type": "markdown",
      "metadata": {
        "id": "MQ9naryYbpVd"
      },
      "source": [
        "### Download tập huấn luyện"
      ]
    },
    {
      "cell_type": "code",
      "execution_count": null,
      "metadata": {
        "colab": {
          "base_uri": "https://localhost:8080/"
        },
        "id": "iDdQn4P6d3xl",
        "outputId": "6ae02968-cf78-4e82-ba5d-4b36d765b138",
        "vscode": {
          "languageId": "python"
        }
      },
      "outputs": [
        {
          "name": "stdout",
          "output_type": "stream",
          "text": [
            "data.csv  human_vocab.json  machine_vocab.json\n"
          ]
        }
      ],
      "source": [
        "! curl --silent -L -o data.zip \"https://drive.google.com/uc?export=download&id=1d6eUqRstk7NIpyASzbuIsDvBdHEwfU0g\"\n",
        "! unzip -q data.zip\n",
        "! ls data"
      ]
    },
    {
      "cell_type": "code",
      "execution_count": null,
      "metadata": {
        "colab": {
          "base_uri": "https://localhost:8080/"
        },
        "id": "93KpIGVv4mtU",
        "outputId": "552abe98-8121-46fa-c543-be6345b1795e",
        "vscode": {
          "languageId": "python"
        }
      },
      "outputs": [],
      "source": [
        "data = pd.read_csv('/content/data/data.csv', header=None)\n",
        "data.head"
      ]
    },
    {
      "cell_type": "markdown",
      "metadata": {
        "id": "d-PgIPRqbpVj"
      },
      "source": [
        "### Tiền xử lý\n",
        "Tập vocab mình xử dụng là các kí tự alphabet và số. Các bạn không cần phải filter, các kí tự đặt biệt trong tập dữ liệu"
      ]
    },
    {
      "cell_type": "code",
      "execution_count": null,
      "metadata": {
        "colab": {
          "base_uri": "https://localhost:8080/"
        },
        "id": "17yzXiMWd3xp",
        "outputId": "1242ddeb-5907-4f96-8479-f2376e226405",
        "vscode": {
          "languageId": "python"
        }
      },
      "outputs": [],
      "source": [
        "def load_data(path):\n",
        "    df = pd.read_csv(path, header=None)\n",
        "    X = df[0].values\n",
        "    y = df[1].values\n",
        "    x_tok = Tokenizer(char_level=True, filters='')\n",
        "    x_tok.fit_on_texts(X)\n",
        "    y_tok = Tokenizer(char_level=True, filters='')\n",
        "    y_tok.fit_on_texts(y)\n",
        "    print(x_tok)\n",
        "    X = x_tok.texts_to_sequences(X)\n",
        "    y = y_tok.texts_to_sequences(y)\n",
        "    print(X)\n",
        "    X = pad_sequences(X)\n",
        "    y = np.asarray(y)\n",
        "    \n",
        "    return X, y, x_tok.word_index, y_tok.word_index\n",
        "\n",
        "X, y, x_wid, y_wid= load_data('data/data.csv')\n",
        "x_id2w = dict(zip(x_wid.values(), x_wid.keys()))\n",
        "y_id2w = dict(zip(y_wid.values(), y_wid.keys()))\n",
        "X_train, X_test, y_train, y_test = train_test_split(X, y)\n",
        "print('train size: {} - test size: {}'.format(len(X_train), len(X_test)))"
      ]
    },
    {
      "cell_type": "markdown",
      "metadata": {
        "id": "yvTDTUDIbpVo"
      },
      "source": [
        "### Định nghĩa các tham số"
      ]
    },
    {
      "cell_type": "code",
      "execution_count": null,
      "metadata": {
        "colab": {
          "base_uri": "https://localhost:8080/"
        },
        "id": "Fy7StSyzd3xz",
        "outputId": "1591e00e-92c3-4bfe-8496-34b7df96fed3",
        "vscode": {
          "languageId": "python"
        }
      },
      "outputs": [
        {
          "name": "stdout",
          "output_type": "stream",
          "text": [
            "input vocab: 35 - output vocab: 13 - length of target: 10\n"
          ]
        }
      ],
      "source": [
        "hidden_size = 128\n",
        "learning_rate = 0.001\n",
        "decoder_learning_ratio = 0.1\n",
        "\n",
        "# tập tự vựng của các câu đầu vào \n",
        "# +1 vì các bạn cần kí tự padding nhé!\n",
        "input_size = len(x_wid) + 1\n",
        "\n",
        "# +2 vì các bạn cần kí tự bắt đầu và kết thức\n",
        "output_size = len(y_wid) + 2\n",
        "# 2 kí tự này nằm ở cuối\n",
        "sos_idx = len(y_wid) \n",
        "eos_idx = len(y_wid) + 1\n",
        "\n",
        "max_length = y.shape[1]\n",
        "print(\"input vocab: {} - output vocab: {} - length of target: {}\".format(input_size, output_size, max_length))"
      ]
    },
    {
      "cell_type": "markdown",
      "metadata": {
        "id": "l6TVVm61bpVu"
      },
      "source": [
        "Chuyển sang dạng chuỗi kí tự đọc được từ chuỗi số"
      ]
    },
    {
      "cell_type": "code",
      "execution_count": null,
      "metadata": {
        "id": "2LksDULqd3x3",
        "vscode": {
          "languageId": "python"
        }
      },
      "outputs": [],
      "source": [
        "def decoder_sentence(idxs, vocab):\n",
        "    text = ''.join([vocab[w] for w in idxs if (w > 0) and (w in vocab)])\n",
        "    return text"
      ]
    },
    {
      "cell_type": "markdown",
      "metadata": {
        "id": "almb2BMwbpVz"
      },
      "source": [
        "## Định nghĩa mô hình\n",
        "Ở phần này, các bạn cần định nghĩa 3 mô hình nhỏ\n",
        "* Encoder: là một mô hình RNN, dùng để học biểu diễn của câu\n",
        "* Attention: dùng để học cách kết hợp để tạo ra context vector\n",
        "* Decoder: là một mô hình RNN, chúng ta sẽ kết hợp context vector vào mô hình này để dự đoán các từ tại mỗi thời điểm\n"
      ]
    },
    {
      "cell_type": "code",
      "execution_count": null,
      "metadata": {
        "id": "yVx1T2LJd3x6",
        "vscode": {
          "languageId": "python"
        }
      },
      "outputs": [],
      "source": [
        "class Encoder(nn.Module):\n",
        "    def __init__(self, input_size, hidden_size):\n",
        "        super(Encoder, self).__init__()\n",
        "        self.hidden_size = hidden_size\n",
        "        # embedding vector của từ\n",
        "        self.embedding = nn.Embedding(input_size, hidden_size)\n",
        "        # mô hình RNN\n",
        "        self.rnn = nn.RNN(hidden_size, hidden_size)\n",
        "    \n",
        "    def forward(self, input):\n",
        "        # input: SxB        \n",
        "        embedded = self.embedding(input)\n",
        "        output, hidden = self.rnn(embedded)\n",
        "        return output, hidden # SxBxH, 1xBxH              \n",
        "\n",
        "class Attn(nn.Module):\n",
        "    def __init__(self, hidden_size):\n",
        "        super(Attn ,self).__init__()\n",
        "        \n",
        "    def forward(self, hidden, encoder_outputs):\n",
        "        ### Mô hình nhận trạng thái hidden hiện tại của mô hình decoder, \n",
        "        ### và các hidden states của mô hình encoder\n",
        "        # encoder_outputs: TxBxH\n",
        "        # hidden: SxBxH\n",
        "        \n",
        "        # tranpose về đúng shape để nhận ma trận\n",
        "        encoder_outputs = torch.transpose(encoder_outputs, 0, 1) #BxTxH\n",
        "        hidden = torch.transpose(torch.transpose(hidden, 0, 1), 1, 2) # BxHxS\n",
        "        # tính e, chính là tương tác giữ hidden và các trạng thái ẩn của mô hình encoder \n",
        "        energies = torch.bmm(encoder_outputs, hidden) # BxTxS\n",
        "        energies = torch.transpose(energies, 1, 2) # BxSxT\n",
        "        # tính alpha, chính là trọng số của trung bình có trọng số cần tính bằng hàm softmax\n",
        "        attn_weights = F.softmax(energies, dim=-1) #BxSxT\n",
        "        \n",
        "        # tính context vector bằng trung binh có trọng số\n",
        "        output = torch.bmm(attn_weights, encoder_outputs) # BxSxH\n",
        "        \n",
        "        # trả về chiều cần thiết\n",
        "        output = torch.transpose(output, 0, 1) # SxBxH\n",
        "        attn_weights = torch.transpose(attn_weights, 0, 1) #SxBxT\n",
        "        \n",
        "        # return context vector và các trọng số alpha cho mục đích biểu diễn cơ chế attention\n",
        "        return output, attn_weights\n",
        "    \n",
        "class Decoder(nn.Module):\n",
        "    def __init__(self, output_size, hidden_size, dropout):\n",
        "        super(Decoder, self).__init__()\n",
        "        self.hidden_size = hidden_size\n",
        "        self.output_size = output_size\n",
        "        \n",
        "        # vector biểu diễn cho các từ của output\n",
        "        self.embedding = nn.Embedding(output_size, hidden_size)\n",
        "        # định nghĩa mô hình attention ở trên\n",
        "        self.attn = Attn(hidden_size)\n",
        "        self.dropout = nn.Dropout(dropout)\n",
        "        # mô hình decoder là GRU\n",
        "        self.rnn = nn.RNN(self.hidden_size, self.hidden_size)\n",
        "        \n",
        "        # dự đoán các từ tại mội thời điểm, chúng ta nối 2 vector hidden và context lại với nhau \n",
        "        self.concat = nn.Linear(self.hidden_size*2, hidden_size)        \n",
        "        self.out = nn.Linear(self.hidden_size, self.output_size)\n",
        "        \n",
        "    def forward(self, input, hidden, encoder_outputs):\n",
        "        # input: SxB\n",
        "        # encoder_outputs: BxSxH\n",
        "        # hidden: 1xBxH\n",
        "        embedded = self.embedding(input) # 1xBxH\n",
        "        embedded = self.dropout(embedded)\n",
        "        \n",
        "        # biểu diễn của câu\n",
        "        rnn_output, hidden = self.rnn(embedded, hidden)  #SxBxH, 1xBxH\n",
        "        # tính context vector dựa trên các hidden states\n",
        "        context, attn_weights = self.attn(rnn_output, encoder_outputs) # SxBxH\n",
        "        \n",
        "        # nối hidden state của mô hình decoder hiện tại và context vector để dự đoán \n",
        "        concat_input = torch.cat((rnn_output, context), -1)\n",
        "        concat_output = torch.tanh(self.concat(concat_input)) #SxBxH\n",
        "        \n",
        "        # dự đoán kết quả tại mỗi thời điểm\n",
        "        output = self.out(concat_output) # SxBxoutput_size\n",
        "        return output, hidden, attn_weights\n",
        "\n"
      ]
    },
    {
      "cell_type": "markdown",
      "metadata": {
        "id": "nRDEAU7WbpV3"
      },
      "source": [
        "### Kiểm tra\n"
      ]
    },
    {
      "cell_type": "code",
      "execution_count": null,
      "metadata": {
        "id": "ArLtO8rsd3yA",
        "vscode": {
          "languageId": "python"
        }
      },
      "outputs": [],
      "source": [
        "encoder = Encoder(input_size, hidden_size)\n",
        "decoder = Decoder(output_size, hidden_size, 0.1)\n",
        "\n",
        "# Initialize optimizers and criterion\n",
        "encoder_optimizer = optim.Adam(encoder.parameters(), lr=learning_rate)\n",
        "decoder_optimizer = optim.Adam(decoder.parameters(), lr=learning_rate * decoder_learning_ratio)\n",
        "criterion = nn.CrossEntropyLoss()\n",
        "\n",
        "\n",
        "input_encoder = torch.randint(1, input_size, (34, 6), dtype=torch.long)\n",
        "encoder_outputs, hidden = encoder(input_encoder)\n",
        "input_decoder = torch.randint(1, output_size, (10, 6), dtype=torch.long)\n",
        "output, hidden, attn_weights = decoder(input_decoder, hidden, encoder_outputs)"
      ]
    },
    {
      "cell_type": "markdown",
      "metadata": {
        "id": "exEjFZUpbpV7"
      },
      "source": [
        "## Train/test\n",
        "Phần này chúng ta định nghĩa một số hàm để huấn luyện, dự đoán mô hình "
      ]
    },
    {
      "cell_type": "code",
      "execution_count": null,
      "metadata": {
        "id": "TnARQv5td3yG",
        "vscode": {
          "languageId": "python"
        }
      },
      "outputs": [],
      "source": [
        "def forward_and_compute_loss(inputs, targets, encoder, decoder, criterion):\n",
        "    batch_size = inputs.size()[1]\n",
        "    \n",
        "    # định nghĩa 2 kí tự bắt đầu và kết thúc\n",
        "    sos = Variable(torch.ones((1, batch_size), dtype=torch.long)*sos_idx)\n",
        "    eos = Variable(torch.ones((1, batch_size), dtype=torch.long)*eos_idx)\n",
        "    \n",
        "    # input của mô hình decoder phải thêm kí tự bắt đầu\n",
        "    decoder_inputs = torch.cat((sos, targets), dim=0)\n",
        "    # output cần dự đoán của mô hình decoder phải thêm kí tự kết thúc\n",
        "    decoder_targets = torch.cat((targets, eos), dim=0)\n",
        "    \n",
        "    # forward tính hidden states của câu\n",
        "    encoder_outputs, encoder_hidden = encoder(inputs)\n",
        "    # tính output của mô hình decoder\n",
        "    output, hidden, attn_weights = decoder(decoder_inputs, encoder_hidden, encoder_outputs)\n",
        "    \n",
        "    output = torch.transpose(torch.transpose(output, 0, 1), 1, 2) # BxCxS\n",
        "    decoder_targets = torch.transpose(decoder_targets, 0, 1)\n",
        "    # tính loss \n",
        "    loss = criterion(output, decoder_targets)\n",
        "    \n",
        "    return loss, output\n",
        "\n",
        "def train(inputs, targets,  encoder, decoder, encoder_optimizer, decoder_optimizer, criterion):\n",
        "    # khai báo train để mô hình biết là đang train hay test\n",
        "    encoder.train()\n",
        "    decoder.train()\n",
        "    \n",
        "    # zero gradient, phải làm mỗi khi cập nhất gradient\n",
        "    encoder_optimizer.zero_grad()\n",
        "    decoder_optimizer.zero_grad()\n",
        "    \n",
        "    # tính loss dựa vào hàm đã định nghĩa ở trên\n",
        "    train_loss, output = forward_and_compute_loss(inputs, targets,encoder, decoder,criterion)    \n",
        "    \n",
        "    train_loss.backward()\n",
        "    # cập nhật một step\n",
        "    encoder_optimizer.step()\n",
        "    decoder_optimizer.step()\n",
        "    \n",
        "    # return loss để print :D\n",
        "    return train_loss.item()\n",
        "\n",
        "def evaluate(inputs, targets, encoder, decoder, criterion):\n",
        "    # báo cho mô hình biết đang test/eval\n",
        "    encoder.eval()\n",
        "    decoder.eval()\n",
        "    # tính loss\n",
        "    eval_loss, output = forward_and_compute_loss(inputs, targets, encoder, decoder,criterion)\n",
        "    output = torch.transpose(output, 1, 2)\n",
        "    # dự đoán của mỗi thời điểm các vị trí có prob lớn nhất\n",
        "    pred_idx = torch.argmax(output, dim=-1).squeeze(-1)\n",
        "    pred_idx = pred_idx.data.cpu().numpy()\n",
        "    \n",
        "    # return loss và kết quả dự đoán\n",
        "    return eval_loss.item(), pred_idx\n",
        "\n",
        "def predict(inputs, encoder, decoder, target_length=max_length):\n",
        "    ### Lúc dự đoán chúng ta cần tính kết quả ngay lập tức tại mỗi thời điểm, \n",
        "    ### rồi sau đó dừng từ được dự đoán để tính từ tiếp theo        \n",
        "    batch_size = inputs.size()[1]\n",
        "    \n",
        "    # input đầu tiên của mô hình decoder là kí tự bắt đầu, chúng ta dự đoán kí tự tiếp theo, sau đó lại dùng kí tự này để dự đoán từ kế tiếp\n",
        "    decoder_inputs = Variable(torch.ones((1, batch_size), dtype=torch.long)*sos_idx)\n",
        "    \n",
        "    # tính hidden state của mô hình encoder, cũng là vector biểu diễn của các từ, chúng ta cần tính context vector dựa trên những hidden states này\n",
        "    encoder_outputs, encoder_hidden = encoder(inputs)\n",
        "    hidden = encoder_hidden\n",
        "    \n",
        "    preds = []\n",
        "    attn_weights = []\n",
        "    # chúng ta tính từng từ tại mỗi thời điểm\n",
        "    for i in range(target_length):\n",
        "        # dự đoán từ đầu tiên\n",
        "        output, hidden, attn_weight = decoder(decoder_inputs, hidden, encoder_outputs)\n",
        "        output = output.squeeze(dim=0)\n",
        "        pred_idx = torch.argmax(output, dim=-1)\n",
        "        \n",
        "        # thay đổi input tiếp theo bằng từ vừa được dự đoán\n",
        "        decoder_inputs = Variable(torch.ones((1, batch_size), dtype=torch.long)*pred_idx)\n",
        "        preds.append(decoder_inputs)\n",
        "        attn_weights.append(attn_weight.detach())\n",
        "    \n",
        "    preds = torch.cat(preds, dim=0)\n",
        "    preds = torch.transpose(preds, 0, 1)\n",
        "    attn_weights = torch.cat(attn_weights, dim=0)\n",
        "    attn_weights = torch.transpose(attn_weights, 0, 1)\n",
        "    return preds, attn_weights"
      ]
    },
    {
      "cell_type": "markdown",
      "metadata": {
        "id": "VvrO070PcmWQ"
      },
      "source": [
        "### Train và eval"
      ]
    },
    {
      "cell_type": "code",
      "execution_count": null,
      "metadata": {
        "colab": {
          "base_uri": "https://localhost:8080/"
        },
        "id": "Fyfzas04d3yZ",
        "outputId": "7da0aa0a-c27a-48df-c391-95f3233060c9",
        "vscode": {
          "languageId": "python"
        }
      },
      "outputs": [
        {
          "name": "stdout",
          "output_type": "stream",
          "text": [
            "Epoch 0 - train loss: 0.458 - eval loss: 0.427\n",
            " tháng 9 12, 1993                   \t1993-19-21\n",
            " tháng 9 14 1983                    \t1983-09-21\n",
            " 11 tháng 9, 1987                   \t1987-09-10\n",
            "Epoch 1 - train loss: 0.099 - eval loss: 0.094\n",
            " 30 tháng 11 2014                   \t2014-11-30\n",
            " 22 tháng 9 2006                    \t2006-09-22\n",
            " thứ sáu, ngày 15 tháng 3 năm 2002  \t2002-03-15\n",
            "Epoch 2 - train loss: 0.051 - eval loss: 0.043\n",
            " 2 thg 2, 2009                      \t2009-02-22\n",
            " 3 thg 4 2005                       \t2005-04-23\n",
            " thứ ba, ngày 05 tháng 1 năm 2016   \t2016-01-05\n",
            "Epoch 3 - train loss: 0.038 - eval loss: 0.028\n",
            " 8 tháng 5, 1994                    \t1994-05-08\n",
            " ngày 04 tháng 11 năm 2008          \t2008-11-04\n",
            " ngày 05 tháng 03 năm 1981          \t1981-03-05\n",
            "Epoch 4 - train loss: 0.026 - eval loss: 0.022\n",
            " 07/04/2001                         \t2001-04-07\n",
            " 28 thg 10, 2011                    \t2011-10-28\n",
            " ngày 16 tháng 03 năm 1985          \t1985-03-16\n",
            "Epoch 5 - train loss: 0.022 - eval loss: 0.020\n",
            " 12 02 89                           \t1989-02-12\n",
            " tháng 5 24, 2010                   \t2010-05-24\n",
            " 06, thg 5 2005                     \t2005-05-06\n",
            "Epoch 6 - train loss: 0.004 - eval loss: 0.007\n",
            " 31 thg 7 2005                      \t2005-07-31\n",
            " 31 thg 7, 1985                     \t1985-07-31\n",
            " tháng 3 18, 2017                   \t2017-03-18\n",
            "Epoch 7 - train loss: 0.003 - eval loss: 0.005\n",
            " 23 tháng 2 2009                    \t2009-02-23\n",
            " 29 thg 4, 2010                     \t2010-04-29\n",
            " 28 thg 10 1988                     \t1988-10-28\n",
            "Epoch 8 - train loss: 0.003 - eval loss: 0.005\n",
            " ngày 20 tháng 03 năm 1989          \t1989-03-20\n",
            " 15 thg 12, 1977                    \t1977-12-15\n",
            " tháng 4 28, 1996                   \t1996-04-28\n",
            "Epoch 9 - train loss: 0.003 - eval loss: 0.004\n",
            " 21 tháng 3, 2003                   \t2003-03-21\n",
            " tháng 4 23, 2011                   \t2011-04-23\n",
            " 26 thg 2, 1983                     \t1983-02-26\n",
            "Epoch 10 - train loss: 0.002 - eval loss: 0.003\n",
            " 26, thg 12 1989                    \t1989-12-26\n",
            " ngày 23 tháng 12 năm 2001          \t2001-12-23\n",
            " tháng 1 22 1987                    \t1987-01-22\n",
            "Epoch 11 - train loss: 0.001 - eval loss: 0.003\n",
            " thứ tư, ngày 09 tháng 1 năm 2013   \t2013-01-09\n",
            " 08/09/1999                         \t1999-09-08\n",
            " thứ bảy, ngày 18 tháng 10 năm 2014 \t2014-10-18\n",
            "Epoch 12 - train loss: 0.002 - eval loss: 0.003\n",
            " 15.09.98                           \t1998-09-15\n",
            " 31 tháng 5 1979                    \t1979-05-31\n",
            " 14 tháng 1 2012                    \t2012-01-14\n",
            "Epoch 13 - train loss: 0.001 - eval loss: 0.001\n",
            " chủ nhật, ngày 27 tháng 4 năm 1980 \t1980-04-27\n",
            " tháng 9 11, 2000                   \t2000-09-11\n",
            " ngày 03 tháng 10 năm 2015          \t2015-10-03\n",
            "Epoch 14 - train loss: 0.001 - eval loss: 0.001\n",
            " 12.04.13                           \t2013-04-12\n",
            " ngày 23 tháng 02 năm 1997          \t1997-02-23\n",
            " 10 thg 5 1980                      \t1980-05-10\n",
            "Epoch 15 - train loss: 0.001 - eval loss: 0.001\n",
            " 14 tháng 7 2005                    \t2005-07-14\n",
            " thứ năm, ngày 08 tháng 8 năm 1985  \t1985-08-08\n",
            " 29 tháng 5 1982                    \t1982-05-29\n",
            "Epoch 16 - train loss: 0.000 - eval loss: 0.000\n",
            " 12 thg 1 1998                      \t1998-01-12\n",
            " 08, thg 11 1998                    \t1998-11-08\n",
            " 28 tháng 2 1990                    \t1990-02-28\n",
            "Epoch 17 - train loss: 0.000 - eval loss: 0.000\n",
            " ngày 16 tháng 10 năm 1981          \t1981-10-16\n",
            " 13 thg 3 1979                      \t1979-03-13\n",
            " 9 tháng 11 2010                    \t2010-11-09\n",
            "Epoch 18 - train loss: 0.000 - eval loss: 0.000\n",
            " 14, thg 9 2006                     \t2006-09-14\n",
            " 24 thg 4 2007                      \t2007-04-24\n",
            " 18 thg 1, 2017                     \t2017-01-18\n",
            "Epoch 19 - train loss: 0.000 - eval loss: 0.000\n",
            " tháng 5 23 1996                    \t1996-05-23\n",
            " 02 thg 12 2011                     \t2011-12-02\n",
            " 4 thg 2 1997                       \t1997-02-04\n",
            "Epoch 20 - train loss: 0.006 - eval loss: 0.002\n",
            " thứ bảy, ngày 09 tháng 8 năm 2003  \t2003-08-09\n",
            " 12/03/2015                         \t2015-03-12\n",
            " ngày 30 tháng 09 năm 1971          \t1971-09-30\n",
            "Epoch 21 - train loss: 0.000 - eval loss: 0.000\n",
            " 11 06 84                           \t1984-06-11\n",
            " tháng 5 15 1999                    \t1999-05-15\n",
            " ngày 13 tháng 03 năm 1986          \t1986-03-13\n",
            "Epoch 22 - train loss: 0.000 - eval loss: 0.000\n",
            " 22 thg 10, 1993                    \t1993-10-22\n",
            " 7 tháng 12 2011                    \t2011-12-07\n",
            " 12 thg 1 2012                      \t2012-01-12\n",
            "Epoch 23 - train loss: 0.000 - eval loss: 0.000\n",
            " 22/06/1992                         \t1992-06-22\n",
            " thứ sáu, ngày 30 tháng 8 năm 1996  \t1996-08-30\n",
            " 20.05.76                           \t1976-05-20\n",
            "Epoch 24 - train loss: 0.000 - eval loss: 0.000\n",
            " 2 tháng 2, 1988                    \t1988-02-02\n",
            " 30 thg 11, 1999                    \t1999-11-30\n",
            " 24 tháng 8 2007                    \t2007-08-24\n"
          ]
        }
      ],
      "source": [
        "epochs = 25\n",
        "batch_size = 64\n",
        "\n",
        "encoder = Encoder(input_size, hidden_size)\n",
        "decoder = Decoder(output_size, hidden_size, 0.1)\n",
        "\n",
        "# Initialize optimizers and criterion\n",
        "encoder_optimizer = optim.Adam(encoder.parameters(), lr=learning_rate)\n",
        "decoder_optimizer = optim.Adam(decoder.parameters(), lr=learning_rate * decoder_learning_ratio)\n",
        "criterion = nn.CrossEntropyLoss()\n",
        "\n",
        "X_val = torch.tensor(X_test, dtype=torch.long)\n",
        "y_val = torch.tensor(y_test, dtype=torch.long)\n",
        "X_val = torch.transpose(X_val, 0, 1)\n",
        "y_val = torch.transpose(y_val, 0, 1)\n",
        "\n",
        "loss = []\n",
        "\n",
        "\n",
        "for epoch in range(epochs):\n",
        "    for idx in range(len(X_train)//batch_size):\n",
        "        # input đầu vào của chúng ta là timestep first nhé. \n",
        "        X_train_batch = torch.tensor(X_train[batch_size*idx:batch_size*(idx+1)], dtype=torch.long)\n",
        "        y_train_batch = torch.tensor(y_train[batch_size*idx:batch_size*(idx+1)], dtype=torch.long)\n",
        "        \n",
        "        X_train_batch = torch.transpose(X_train_batch, 0, 1)\n",
        "        y_train_batch = torch.transpose(y_train_batch, 0, 1)\n",
        "        train_loss= train(X_train_batch, y_train_batch, encoder, decoder, encoder_optimizer, decoder_optimizer, criterion)\n",
        "    eval_loss, preds = evaluate(X_val, y_val, encoder, decoder, criterion)\n",
        "    loss.append(train_loss)\n",
        "    print('Epoch {} - train loss: {:.3f} - eval loss: {:.3f}'.format(epoch, train_loss, eval_loss))\n",
        "    print_idx = np.random.randint(0, len(preds), 3)\n",
        "    for i in print_idx:\n",
        "        x_val = decoder_sentence(X_val[:,i].numpy(), x_id2w)\n",
        "        y_pred = decoder_sentence(preds[i], y_id2w)\n",
        "        print(\" {:<35s}\\t{:>10}\".format(x_val, y_pred))"
      ]
    },
    {
      "cell_type": "code",
      "execution_count": null,
      "metadata": {
        "colab": {
          "base_uri": "https://localhost:8080/",
          "height": 281
        },
        "id": "e6urlWTD2GdM",
        "outputId": "b869a302-fa7d-43b4-a379-7d800dcc6a35",
        "vscode": {
          "languageId": "python"
        }
      },
      "outputs": [
        {
          "data": {
            "image/png": "[encoded data removed]",
            "text/plain": [
              "<Figure size 432x288 with 1 Axes>"
            ]
          },
          "metadata": {
            "needs_background": "light"
          },
          "output_type": "display_data"
        }
      ],
      "source": [
        "import matplotlib.pyplot as plt\n",
        "plt.plot([i for i in range(25)], loss)\n",
        "plt.title('train loss')\n",
        "plt.show()"
      ]
    },
    {
      "cell_type": "markdown",
      "metadata": {
        "id": "XL0477_kbpWK"
      },
      "source": [
        "## Predict\n",
        "Chúng ta dự đoán một vài mẫu và phân tích một số kết quả của cơ chế attention"
      ]
    },
    {
      "cell_type": "code",
      "execution_count": null,
      "metadata": {
        "id": "NglXGh77d3yc",
        "vscode": {
          "languageId": "python"
        }
      },
      "outputs": [],
      "source": [
        "preds, attn_weights = predict(X_val ,encoder, decoder, target_length=10)"
      ]
    },
    {
      "cell_type": "code",
      "execution_count": null,
      "metadata": {
        "id": "vRMILrf6d3yj",
        "vscode": {
          "languageId": "python"
        }
      },
      "outputs": [],
      "source": [
        "def show_attention(input_sentence, output_words, attentions):\n",
        "    # Set up figure with colorbar\n",
        "    fig = plt.figure()\n",
        "    ax = fig.add_subplot(111)\n",
        "    cax = ax.matshow(attentions.numpy(), cmap='bone')\n",
        "    fig.colorbar(cax)\n",
        "\n",
        "    # Set up axes\n",
        "    ax.set_xticks(np.arange(len(input_sentence)))\n",
        "    ax.set_xticklabels(list(input_sentence), rotation=90)\n",
        "    ax.set_yticks(np.arange(len(output_words)))\n",
        "    ax.set_yticklabels(list(output_words))\n",
        "    ax.grid()\n",
        "    ax.set_xlabel('Input Sequence')\n",
        "    ax.set_ylabel('Output Sequence')\n",
        "    plt.show()"
      ]
    },
    {
      "cell_type": "code",
      "execution_count": null,
      "metadata": {
        "colab": {
          "base_uri": "https://localhost:8080/",
          "height": 258
        },
        "id": "eFJvKjnOLL9W",
        "outputId": "99d6574f-bce6-480e-a01a-1e7532014716",
        "vscode": {
          "languageId": "python"
        }
      },
      "outputs": [
        {
          "data": {
            "image/png": "[encoded data removed]",
            "text/plain": [
              "<Figure size 432x288 with 2 Axes>"
            ]
          },
          "metadata": {
            "needs_background": "light"
          },
          "output_type": "display_data"
        }
      ],
      "source": [
        "show_idx = randint(0, len(preds))\n",
        "text_x = decoder_sentence(X_val[:,show_idx].numpy(), x_id2w)\n",
        "text_y = decoder_sentence(preds[show_idx].numpy(), y_id2w)\n",
        "attn_weight = attn_weights[show_idx, :, -len(text_x):]\n",
        "show_attention(text_x, text_y, attn_weight)"
      ]
    }
  ],
  "metadata": {
    "accelerator": "GPU",
    "colab": {
      "collapsed_sections": [],
      "name": "attention.ipynb",
      "provenance": []
    },
    "kernelspec": {
      "display_name": "Python 3",
      "language": "python",
      "name": "python3"
    }
  },
  "nbformat": 4,
  "nbformat_minor": 0
}
