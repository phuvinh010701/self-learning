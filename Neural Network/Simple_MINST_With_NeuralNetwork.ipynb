{
  "nbformat": 4,
  "nbformat_minor": 0,
  "metadata": {
    "colab": {
      "name": "Simple_MINST_With_NeuralNetwork.ipynb",
      "provenance": []
    },
    "kernelspec": {
      "name": "python3",
      "display_name": "Python 3"
    },
    "language_info": {
      "name": "python"
    },
    "accelerator": "GPU"
  },
  "cells": [
    {
      "cell_type": "markdown",
      "source": [
        "# Using tf lib"
      ],
      "metadata": {
        "id": "1MBBSGSbgc22"
      }
    },
    {
      "cell_type": "code",
      "execution_count": 154,
      "metadata": {
        "id": "zKnDRbt9PzaR"
      },
      "outputs": [],
      "source": [
        "import tensorflow as tf\n",
        "import matplotlib.pyplot as plt\n",
        "import tensorflow_datasets as tfds\n",
        "from tensorflow.keras.layers import Dense, Activation, Flatten, Input\n",
        "from tensorflow.keras import Sequential\n",
        "from sklearn.model_selection import train_test_split\n",
        "import numpy as np\n",
        "from sklearn.metrics import accuracy_score\n",
        "from sklearn.metrics import confusion_matrix"
      ]
    },
    {
      "cell_type": "markdown",
      "source": [
        "# Load image and label"
      ],
      "metadata": {
        "id": "LUqb7-ZRghjE"
      }
    },
    {
      "cell_type": "code",
      "source": [
        "image, label = tfds.as_numpy(tfds.load(\n",
        "    'mnist',\n",
        "    split='test',\n",
        "    batch_size=-1,\n",
        "    as_supervised=True,\n",
        "))\n"
      ],
      "metadata": {
        "id": "ETIJnRL5R_pb"
      },
      "execution_count": 155,
      "outputs": []
    },
    {
      "cell_type": "markdown",
      "source": [
        "# Show example in data"
      ],
      "metadata": {
        "id": "D1K1D-nzgk7N"
      }
    },
    {
      "cell_type": "code",
      "source": [
        "nums_image_show = 3\n",
        "index = 0\n",
        "plt.figure(figsize=(10,10))\n",
        "for i in range(nums_image_show):\n",
        "  for j in range(nums_image_show):\n",
        "    ax = plt.subplot(nums_image_show, nums_image_show, index + 1)\n",
        "    ax.set_xticks([])\n",
        "    ax.set_yticks([])\n",
        "    ax.set_title(label[index])\n",
        "    plt.imshow(image[index, :, :, 0], cmap='gray')\n",
        "    index += 1\n",
        "plt.show()"
      ],
      "metadata": {
        "colab": {
          "base_uri": "https://localhost:8080/",
          "height": 594
        },
        "id": "u3-oOEWIVOsN",
        "outputId": "e075339e-546d-489c-96af-75f3d4bc68e1"
      },
      "execution_count": 156,
      "outputs": [
        {
          "output_type": "display_data",
          "data": {
            "text/plain": [
              "<Figure size 720x720 with 9 Axes>"
            ],
            "image/png": "[encoded data removed]"
          },
          "metadata": {}
        }
      ]
    },
    {
      "cell_type": "markdown",
      "source": [
        "# Build model"
      ],
      "metadata": {
        "id": "2wJh83blgncB"
      }
    },
    {
      "cell_type": "code",
      "source": [
        "def build_neural_network():\n",
        "  model = Sequential()\n",
        "  model.add(Input(shape=(28, 28, 1)))\n",
        "  model.add(Dense(128))\n",
        "  model.add(Dense(64))\n",
        "  model.add(Flatten())\n",
        "  model.add(Dense(10, activation='softmax'))\n",
        "  model.compile(optimizer='adam',\n",
        "              loss='sparse_categorical_crossentropy',\n",
        "              metrics=['accuracy'])\n",
        "  return model"
      ],
      "metadata": {
        "id": "-FmjDT0yXFK4"
      },
      "execution_count": 157,
      "outputs": []
    },
    {
      "cell_type": "code",
      "source": [
        "model = build_neural_network()"
      ],
      "metadata": {
        "id": "N1z7Q7gWY26U"
      },
      "execution_count": 160,
      "outputs": []
    },
    {
      "cell_type": "code",
      "source": [
        "model.summary()"
      ],
      "metadata": {
        "colab": {
          "base_uri": "https://localhost:8080/"
        },
        "id": "x06TgUSEZDXG",
        "outputId": "cde803fa-d7b4-4783-bc18-09dd36069708"
      },
      "execution_count": 161,
      "outputs": [
        {
          "output_type": "stream",
          "name": "stdout",
          "text": [
            "Model: \"sequential_10\"\n",
            "_________________________________________________________________\n",
            " Layer (type)                Output Shape              Param #   \n",
            "=================================================================\n",
            " dense_27 (Dense)            (None, 28, 28, 128)       256       \n",
            "                                                                 \n",
            " dense_28 (Dense)            (None, 28, 28, 64)        8256      \n",
            "                                                                 \n",
            " flatten_9 (Flatten)         (None, 50176)             0         \n",
            "                                                                 \n",
            " dense_29 (Dense)            (None, 10)                501770    \n",
            "                                                                 \n",
            "=================================================================\n",
            "Total params: 510,282\n",
            "Trainable params: 510,282\n",
            "Non-trainable params: 0\n",
            "_________________________________________________________________\n"
          ]
        }
      ]
    },
    {
      "cell_type": "markdown",
      "source": [
        "# Split data to train set and test set"
      ],
      "metadata": {
        "id": "T6JO0qcfgp6d"
      }
    },
    {
      "cell_type": "code",
      "source": [
        "X_train, X_test, y_train, y_test = train_test_split(image, label, test_size=0.2)"
      ],
      "metadata": {
        "id": "G9fynlDIZtqP"
      },
      "execution_count": 162,
      "outputs": []
    },
    {
      "cell_type": "markdown",
      "source": [
        "# Train model"
      ],
      "metadata": {
        "id": "LlLkWBFiguFr"
      }
    },
    {
      "cell_type": "code",
      "source": [
        "his = model.fit(X_train, y_train, batch_size=32, epochs=30)"
      ],
      "metadata": {
        "colab": {
          "base_uri": "https://localhost:8080/"
        },
        "id": "g0f-gI-NbnfS",
        "outputId": "36604f9e-81fc-4945-9e0b-ff5dfcc3dfae"
      },
      "execution_count": 163,
      "outputs": [
        {
          "output_type": "stream",
          "name": "stdout",
          "text": [
            "Epoch 1/30\n",
            "250/250 [==============================] - 1s 4ms/step - loss: 3.3182 - accuracy: 0.7962\n",
            "Epoch 2/30\n",
            "250/250 [==============================] - 1s 3ms/step - loss: 0.9203 - accuracy: 0.8620\n",
            "Epoch 3/30\n",
            "250/250 [==============================] - 1s 3ms/step - loss: 1.4752 - accuracy: 0.8604\n",
            "Epoch 4/30\n",
            "250/250 [==============================] - 1s 3ms/step - loss: 2.2922 - accuracy: 0.8652\n",
            "Epoch 5/30\n",
            "250/250 [==============================] - 1s 3ms/step - loss: 2.5873 - accuracy: 0.8685\n",
            "Epoch 6/30\n",
            "250/250 [==============================] - 1s 3ms/step - loss: 2.6709 - accuracy: 0.8766\n",
            "Epoch 7/30\n",
            "250/250 [==============================] - 1s 3ms/step - loss: 2.8839 - accuracy: 0.8808\n",
            "Epoch 8/30\n",
            "250/250 [==============================] - 1s 3ms/step - loss: 2.1748 - accuracy: 0.8970\n",
            "Epoch 9/30\n",
            "250/250 [==============================] - 1s 3ms/step - loss: 1.7756 - accuracy: 0.9020\n",
            "Epoch 10/30\n",
            "250/250 [==============================] - 1s 3ms/step - loss: 1.3851 - accuracy: 0.9105\n",
            "Epoch 11/30\n",
            "250/250 [==============================] - 1s 3ms/step - loss: 1.3502 - accuracy: 0.9119\n",
            "Epoch 12/30\n",
            "250/250 [==============================] - 1s 3ms/step - loss: 1.2598 - accuracy: 0.9126\n",
            "Epoch 13/30\n",
            "250/250 [==============================] - 1s 3ms/step - loss: 1.3400 - accuracy: 0.9101\n",
            "Epoch 14/30\n",
            "250/250 [==============================] - 1s 3ms/step - loss: 1.1151 - accuracy: 0.9184\n",
            "Epoch 15/30\n",
            "250/250 [==============================] - 1s 3ms/step - loss: 1.3340 - accuracy: 0.9120\n",
            "Epoch 16/30\n",
            "250/250 [==============================] - 1s 3ms/step - loss: 1.0460 - accuracy: 0.9218\n",
            "Epoch 17/30\n",
            "250/250 [==============================] - 1s 3ms/step - loss: 0.7741 - accuracy: 0.9264\n",
            "Epoch 18/30\n",
            "250/250 [==============================] - 1s 3ms/step - loss: 0.8283 - accuracy: 0.9268\n",
            "Epoch 19/30\n",
            "250/250 [==============================] - 1s 3ms/step - loss: 0.7040 - accuracy: 0.9291\n",
            "Epoch 20/30\n",
            "250/250 [==============================] - 1s 3ms/step - loss: 0.5898 - accuracy: 0.9327\n",
            "Epoch 21/30\n",
            "250/250 [==============================] - 1s 3ms/step - loss: 0.5472 - accuracy: 0.9365\n",
            "Epoch 22/30\n",
            "250/250 [==============================] - 1s 3ms/step - loss: 0.5090 - accuracy: 0.9358\n",
            "Epoch 23/30\n",
            "250/250 [==============================] - 1s 3ms/step - loss: 0.5065 - accuracy: 0.9349\n",
            "Epoch 24/30\n",
            "250/250 [==============================] - 1s 3ms/step - loss: 0.6563 - accuracy: 0.9301\n",
            "Epoch 25/30\n",
            "250/250 [==============================] - 1s 3ms/step - loss: 0.5514 - accuracy: 0.9315\n",
            "Epoch 26/30\n",
            "250/250 [==============================] - 1s 3ms/step - loss: 0.4844 - accuracy: 0.9341\n",
            "Epoch 27/30\n",
            "250/250 [==============================] - 1s 3ms/step - loss: 0.4138 - accuracy: 0.9383\n",
            "Epoch 28/30\n",
            "250/250 [==============================] - 1s 3ms/step - loss: 0.3303 - accuracy: 0.9440\n",
            "Epoch 29/30\n",
            "250/250 [==============================] - 1s 3ms/step - loss: 0.2950 - accuracy: 0.9466\n",
            "Epoch 30/30\n",
            "250/250 [==============================] - 1s 3ms/step - loss: 0.3771 - accuracy: 0.9398\n"
          ]
        }
      ]
    },
    {
      "cell_type": "markdown",
      "source": [
        "# Valid"
      ],
      "metadata": {
        "id": "B1dr3Q8wii01"
      }
    },
    {
      "cell_type": "code",
      "source": [
        "plt.plot(his.history['accuracy'])\n",
        "plt.title('model accuracy')\n",
        "plt.ylabel('accuracy')\n",
        "plt.xlabel('epoch')\n",
        "plt.legend(['train', 'test'], loc='upper left')\n",
        "plt.show()"
      ],
      "metadata": {
        "colab": {
          "base_uri": "https://localhost:8080/",
          "height": 295
        },
        "id": "Km8vzgHuizNC",
        "outputId": "64b661eb-6351-49bb-ad53-8fc5e8a2c741"
      },
      "execution_count": 170,
      "outputs": [
        {
          "output_type": "display_data",
          "data": {
            "text/plain": [
              "<Figure size 432x288 with 1 Axes>"
            ],
            "image/png": "[encoded data removed]"
          },
          "metadata": {
            "needs_background": "light"
          }
        }
      ]
    },
    {
      "cell_type": "code",
      "source": [
        "plt.plot(his.history['loss'])\n",
        "plt.title('loss')\n",
        "plt.ylabel('loss')\n",
        "plt.xlabel('epoch')\n",
        "plt.legend(['train', 'test'], loc='upper left')\n",
        "plt.show()"
      ],
      "metadata": {
        "colab": {
          "base_uri": "https://localhost:8080/",
          "height": 295
        },
        "id": "JAL0XnhcjEp3",
        "outputId": "6049203a-118f-4097-c25e-7c57d19ab9b9"
      },
      "execution_count": 171,
      "outputs": [
        {
          "output_type": "display_data",
          "data": {
            "text/plain": [
              "<Figure size 432x288 with 1 Axes>"
            ],
            "image/png": "[encoded data removed]"
          },
          "metadata": {
            "needs_background": "light"
          }
        }
      ]
    },
    {
      "cell_type": "markdown",
      "source": [
        "# Predict test set"
      ],
      "metadata": {
        "id": "AiW5ABRcgxvL"
      }
    },
    {
      "cell_type": "code",
      "source": [
        "pred = model.predict(X_test)"
      ],
      "metadata": {
        "id": "T4sIouWzdi3w"
      },
      "execution_count": 172,
      "outputs": []
    },
    {
      "cell_type": "code",
      "source": [
        "y_pred = np.array([np.argmax(i) for i in pred])"
      ],
      "metadata": {
        "id": "bFAyT44-eDo1"
      },
      "execution_count": 173,
      "outputs": []
    },
    {
      "cell_type": "code",
      "source": [
        "y_pred"
      ],
      "metadata": {
        "colab": {
          "base_uri": "https://localhost:8080/"
        },
        "id": "0199HG8CeQWi",
        "outputId": "84cfed50-909a-4596-949a-ab4655d20965"
      },
      "execution_count": 174,
      "outputs": [
        {
          "output_type": "execute_result",
          "data": {
            "text/plain": [
              "array([5, 4, 1, ..., 9, 1, 2])"
            ]
          },
          "metadata": {},
          "execution_count": 174
        }
      ]
    },
    {
      "cell_type": "code",
      "source": [
        "y_test"
      ],
      "metadata": {
        "colab": {
          "base_uri": "https://localhost:8080/"
        },
        "id": "knj6-WGFeA-P",
        "outputId": "61a28234-18b4-4de3-f8ba-b0faabad2031"
      },
      "execution_count": 175,
      "outputs": [
        {
          "output_type": "execute_result",
          "data": {
            "text/plain": [
              "array([3, 4, 1, ..., 9, 1, 2])"
            ]
          },
          "metadata": {},
          "execution_count": 175
        }
      ]
    },
    {
      "cell_type": "code",
      "source": [
        "print(accuracy_score(y_test, y_pred))"
      ],
      "metadata": {
        "colab": {
          "base_uri": "https://localhost:8080/"
        },
        "id": "baAJDxEbdl0r",
        "outputId": "e45ef2dc-b69d-430d-b571-d923d6202845"
      },
      "execution_count": 176,
      "outputs": [
        {
          "output_type": "stream",
          "name": "stdout",
          "text": [
            "0.8965\n"
          ]
        }
      ]
    },
    {
      "cell_type": "markdown",
      "source": [
        "# Show confusion maxtrix"
      ],
      "metadata": {
        "id": "chLkkZuwg1iE"
      }
    },
    {
      "cell_type": "code",
      "source": [
        "cf_matrix = confusion_matrix(y_test, y_pred)\n",
        "\n",
        "print(cf_matrix)"
      ],
      "metadata": {
        "colab": {
          "base_uri": "https://localhost:8080/"
        },
        "id": "B46z014ffsMX",
        "outputId": "0283af02-008c-4c96-a190-12e0477bff96"
      },
      "execution_count": 177,
      "outputs": [
        {
          "output_type": "stream",
          "name": "stdout",
          "text": [
            "[[174   0   1   0   3   8  11   1   0   0]\n",
            " [  0 229   0   0   0   1   0   2   1   0]\n",
            " [  0   0 185   3   5   4   3   6   3   2]\n",
            " [  0   0   5 179   0   7   0   5   0   0]\n",
            " [  0   0   1   1 179   0   8   1   0   6]\n",
            " [  1   0   0  12   1 151   6   6   6   1]\n",
            " [  0   1   2   0   1   2 173   2   0   0]\n",
            " [  2   1   3   3   2   1   0 187   2   4]\n",
            " [  1   3   1   7   1   6   5   2 165   6]\n",
            " [  0   1   0   3   7   4   0  11   2 171]]\n"
          ]
        }
      ]
    },
    {
      "cell_type": "code",
      "source": [
        "import seaborn as sns\n",
        "plt.figure(figsize=(10,10))\n",
        "ax = sns.heatmap(cf_matrix, annot=True, cmap='Blues')\n",
        "\n",
        "ax.set_title('Seaborn Confusion Matrix with labels\\n\\n');\n",
        "ax.set_xlabel('\\nPredicted Values')\n",
        "ax.set_ylabel('Actual Values ');\n",
        "\n",
        "## Ticket labels - List must be in alphabetical order\n",
        "ax.xaxis.set_ticklabels(['False','True'])\n",
        "ax.yaxis.set_ticklabels(['False','True'])\n",
        "\n",
        "## Display the visualization of the Confusion Matrix.\n",
        "plt.show()"
      ],
      "metadata": {
        "colab": {
          "base_uri": "https://localhost:8080/",
          "height": 663
        },
        "id": "akYt-S6GfyLm",
        "outputId": "05367c9e-2ec5-4af7-8eb9-8797ffa20259"
      },
      "execution_count": 178,
      "outputs": [
        {
          "output_type": "display_data",
          "data": {
            "text/plain": [
              "<Figure size 720x720 with 2 Axes>"
            ],
            "image/png": "[encoded data removed]"
          },
          "metadata": {
            "needs_background": "light"
          }
        }
      ]
    }
  ]
}