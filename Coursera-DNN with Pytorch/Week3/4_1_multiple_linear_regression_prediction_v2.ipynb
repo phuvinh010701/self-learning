{
  "cells": [
    {
      "cell_type": "markdown",
      "metadata": {
        "id": "jmhysaENkriN"
      },
      "source": [
        "<p style=\"text-align:center\">\n",
        "    <a href=\"https://skills.network/?utm_medium=Exinfluencer&utm_source=Exinfluencer&utm_content=000026UJ&utm_term=10006555&utm_id=NA-SkillsNetwork-Channel-SkillsNetworkCoursesIBMDeveloperSkillsNetworkDL0110ENSkillsNetwork20647811-2022-01-01\" target=\"_blank\">\n",
        "    <img src=\"https://cf-courses-data.s3.us.cloud-object-storage.appdomain.cloud/assets/logos/SN_web_lightmode.png\" width=\"200\" alt=\"Skills Network Logo\"  />\n",
        "    </a>\n",
        "</p>\n"
      ]
    },
    {
      "cell_type": "markdown",
      "metadata": {
        "id": "VV3vKGsFkriO"
      },
      "source": [
        "<h1>Multiple Linear Regression</h1>\n"
      ]
    },
    {
      "cell_type": "markdown",
      "metadata": {
        "id": "UDZlwsNAkriO"
      },
      "source": [
        "<h2>Objective</h2><ul><li> How to make the prediction for multiple inputs.</li><li> How to use linear class to build more complex models.</li><li> How to build a custom module.</li></ul> \n"
      ]
    },
    {
      "cell_type": "markdown",
      "metadata": {
        "id": "ywaqyOnykriP"
      },
      "source": [
        "<h2>Table of Contents</h2>\n",
        "<p>In this lab, you will review how to make a prediction in several different ways by using PyTorch.</p>\n",
        "\n",
        "<ul>\n",
        "    <li><a href=\"https://#Prediction\">Prediction</a></li>\n",
        "    <li><a href=\"https://#Linear\">Class Linear</a></li>\n",
        "    <li><a href=\"https://#Cust\">Build Custom Modules</a></li>\n",
        "</ul>\n",
        "\n",
        "<p>Estimated Time Needed: <strong>15 min</strong></p>\n",
        "\n",
        "<hr>\n"
      ]
    },
    {
      "cell_type": "markdown",
      "metadata": {
        "id": "MNpS67ivkriP"
      },
      "source": [
        "<h2>Preparation</h2>\n"
      ]
    },
    {
      "cell_type": "markdown",
      "metadata": {
        "id": "ixglWugvkriP"
      },
      "source": [
        "Import the libraries and set the random seed.\n"
      ]
    },
    {
      "cell_type": "code",
      "execution_count": 1,
      "metadata": {
        "colab": {
          "base_uri": "https://localhost:8080/"
        },
        "id": "fM5HAregkriP",
        "outputId": "a60de115-46c5-487b-b224-eb8d8db27547"
      },
      "outputs": [
        {
          "output_type": "execute_result",
          "data": {
            "text/plain": [
              "<torch._C.Generator at 0x7f094e73fa50>"
            ]
          },
          "metadata": {},
          "execution_count": 1
        }
      ],
      "source": [
        "# Import the libraries and set the random seed\n",
        "\n",
        "from torch import nn\n",
        "import torch\n",
        "torch.manual_seed(1)"
      ]
    },
    {
      "cell_type": "markdown",
      "metadata": {
        "id": "G77YK99XkriQ"
      },
      "source": [
        "<!--Empty Space for separating topics-->\n"
      ]
    },
    {
      "cell_type": "markdown",
      "metadata": {
        "id": "98jHgTBmkriQ"
      },
      "source": [
        "<h2 id=\"Prediction\">Prediction</h2>\n"
      ]
    },
    {
      "cell_type": "markdown",
      "metadata": {
        "id": "iMuB7A6AkriQ"
      },
      "source": [
        "Set weight and bias.\n"
      ]
    },
    {
      "cell_type": "code",
      "execution_count": 2,
      "metadata": {
        "id": "HKNABvPDkriR"
      },
      "outputs": [],
      "source": [
        "# Set the weight and bias\n",
        "\n",
        "w = torch.tensor([[2.0], [3.0]], requires_grad=True)\n",
        "b = torch.tensor([[1.0]], requires_grad=True)"
      ]
    },
    {
      "cell_type": "markdown",
      "metadata": {
        "id": "Tl_DnC-XkriR"
      },
      "source": [
        "Define the parameters. <code>torch.mm</code> uses matrix multiplication instead of scaler multiplication.\n"
      ]
    },
    {
      "cell_type": "code",
      "execution_count": 3,
      "metadata": {
        "id": "-rPsNKJakriR"
      },
      "outputs": [],
      "source": [
        "# Define Prediction Function\n",
        "\n",
        "def forward(x):\n",
        "    yhat = torch.mm(x, w) + b\n",
        "    return yhat"
      ]
    },
    {
      "cell_type": "markdown",
      "metadata": {
        "id": "hPHWGAFlkriR"
      },
      "source": [
        "The function <code>forward</code> implements the following equation:\n"
      ]
    },
    {
      "cell_type": "markdown",
      "metadata": {
        "id": "x4fKtJiWkriR"
      },
      "source": [
        "<img src=\"https://s3-api.us-geo.objectstorage.softlayer.net/cf-courses-data/CognitiveClass/DL0110EN/notebook_images%20/chapter2/2.6.1_matrix_eq.png\" width=\"600\" alt=\"Matrix Linear Regression\"/>\n"
      ]
    },
    {
      "cell_type": "markdown",
      "metadata": {
        "id": "TahVABVskriS"
      },
      "source": [
        "If we input a <i>1x2</i> tensor, because we have a <i>2x1</i> tensor as <code>w</code>, we will get a <i>1x1</i> tensor:\n"
      ]
    },
    {
      "cell_type": "code",
      "execution_count": 4,
      "metadata": {
        "colab": {
          "base_uri": "https://localhost:8080/"
        },
        "id": "op8xDo8ykriS",
        "outputId": "7ec36d7e-cf4e-4689-fb95-dc5d000a7a31"
      },
      "outputs": [
        {
          "output_type": "stream",
          "name": "stdout",
          "text": [
            "The result:  tensor([[9.]], grad_fn=<AddBackward0>)\n"
          ]
        }
      ],
      "source": [
        "# Calculate yhat\n",
        "\n",
        "x = torch.tensor([[1.0, 2.0]])\n",
        "yhat = forward(x)\n",
        "print(\"The result: \", yhat)"
      ]
    },
    {
      "cell_type": "markdown",
      "metadata": {
        "id": "-Y94DyL6kriS"
      },
      "source": [
        "<img src = \"https://s3-api.us-geo.objectstorage.softlayer.net/cf-courses-data/CognitiveClass/DL0110EN/notebook_images%20/chapter2/2.6.1example.png\" width = \"300\" alt=\"Linear Regression Matrix Sample One\" />\n"
      ]
    },
    {
      "cell_type": "markdown",
      "metadata": {
        "id": "-Em0399HkriS"
      },
      "source": [
        "# Each row of the following tensor represents a sample:\n"
      ]
    },
    {
      "cell_type": "code",
      "execution_count": 5,
      "metadata": {
        "id": "tLO1R3FMkriS"
      },
      "outputs": [],
      "source": [
        "# Sample tensor X\n",
        "\n",
        "X = torch.tensor([[1.0, 1.0], [1.0, 2.0], [1.0, 3.0]])"
      ]
    },
    {
      "cell_type": "code",
      "execution_count": 6,
      "metadata": {
        "colab": {
          "base_uri": "https://localhost:8080/"
        },
        "id": "2pbPrOCSkriS",
        "outputId": "cb87eda6-edf4-4bbe-db71-59828dae6c2b"
      },
      "outputs": [
        {
          "output_type": "stream",
          "name": "stdout",
          "text": [
            "The result:  tensor([[ 6.],\n",
            "        [ 9.],\n",
            "        [12.]], grad_fn=<AddBackward0>)\n"
          ]
        }
      ],
      "source": [
        "# Make the prediction of X \n",
        "\n",
        "yhat = forward(X)\n",
        "print(\"The result: \", yhat)"
      ]
    },
    {
      "cell_type": "markdown",
      "metadata": {
        "id": "FhYUbNU3kriT"
      },
      "source": [
        "<!--Empty Space for separating topics-->\n"
      ]
    },
    {
      "cell_type": "markdown",
      "metadata": {
        "id": "6TFnG--mkriT"
      },
      "source": [
        "<h2 id=\"Linear\">Class Linear</h2>\n"
      ]
    },
    {
      "cell_type": "markdown",
      "metadata": {
        "id": "peBoONFrkriT"
      },
      "source": [
        "We can use the linear class to make a prediction. You'll also use the linear class to build more complex models.\n"
      ]
    },
    {
      "cell_type": "markdown",
      "metadata": {
        "id": "eZN7lmoQkriT"
      },
      "source": [
        "Let us create a model.\n"
      ]
    },
    {
      "cell_type": "code",
      "execution_count": 7,
      "metadata": {
        "id": "1WExN9O6kriT"
      },
      "outputs": [],
      "source": [
        "# Make a linear regression model using build-in function\n",
        "\n",
        "model = nn.Linear(2, 1)"
      ]
    },
    {
      "cell_type": "markdown",
      "metadata": {
        "id": "p8u4xBlQkriT"
      },
      "source": [
        "Make a prediction with the first sample:\n"
      ]
    },
    {
      "cell_type": "code",
      "execution_count": 8,
      "metadata": {
        "colab": {
          "base_uri": "https://localhost:8080/"
        },
        "id": "SDvr9TIrkriT",
        "outputId": "a023e5fd-956a-4941-ef00-70d01dfcc2b4"
      },
      "outputs": [
        {
          "output_type": "stream",
          "name": "stdout",
          "text": [
            "The result:  tensor([[-0.3969]], grad_fn=<AddmmBackward0>)\n"
          ]
        }
      ],
      "source": [
        "# Make a prediction of x\n",
        "\n",
        "yhat = model(x)\n",
        "print(\"The result: \", yhat)"
      ]
    },
    {
      "cell_type": "markdown",
      "metadata": {
        "id": "NK5d_SVCkriU"
      },
      "source": [
        "Predict with multiple samples <code>X</code>:\n"
      ]
    },
    {
      "cell_type": "code",
      "execution_count": 9,
      "metadata": {
        "colab": {
          "base_uri": "https://localhost:8080/"
        },
        "id": "kHEeK8cSkriU",
        "outputId": "f05d232e-e24a-4326-99a4-11f4803615bb"
      },
      "outputs": [
        {
          "output_type": "stream",
          "name": "stdout",
          "text": [
            "The result:  tensor([[-0.0848],\n",
            "        [-0.3969],\n",
            "        [-0.7090]], grad_fn=<AddmmBackward0>)\n"
          ]
        }
      ],
      "source": [
        "# Make a prediction of X\n",
        "\n",
        "yhat = model(X)\n",
        "print(\"The result: \", yhat)"
      ]
    },
    {
      "cell_type": "markdown",
      "metadata": {
        "id": "hSes9b3ckriU"
      },
      "source": [
        "The function performs matrix multiplication as shown in this image:\n"
      ]
    },
    {
      "cell_type": "markdown",
      "metadata": {
        "id": "fWru3Z4TkriU"
      },
      "source": [
        "<img src = \"https://s3-api.us-geo.objectstorage.softlayer.net/cf-courses-data/CognitiveClass/DL0110EN/notebook_images%20/chapter2/2.6.1multi_sample_example.png\" width = \"600\" alt=\"Linear Regression Matrix Sample One\" />\n"
      ]
    },
    {
      "cell_type": "markdown",
      "metadata": {
        "id": "lPx0xgtTkriU"
      },
      "source": [
        "<!--Empty Space for separating topics-->\n"
      ]
    },
    {
      "cell_type": "markdown",
      "metadata": {
        "id": "E4gs5IFXkriU"
      },
      "source": [
        "<h2 id=\"Cust\">Build Custom Modules </h2>\n"
      ]
    },
    {
      "cell_type": "markdown",
      "metadata": {
        "id": "F0xH0JPEkriU"
      },
      "source": [
        "Now, you'll build a custom module. You can make more complex models by using this method later.\n"
      ]
    },
    {
      "cell_type": "code",
      "execution_count": 10,
      "metadata": {
        "id": "AGqiyVYykriU"
      },
      "outputs": [],
      "source": [
        "# Create linear_regression Class\n",
        "\n",
        "class linear_regression(nn.Module):\n",
        "    \n",
        "    # Constructor\n",
        "    def __init__(self, input_size, output_size):\n",
        "        super(linear_regression, self).__init__()\n",
        "        self.linear = nn.Linear(input_size, output_size)\n",
        "    \n",
        "    # Prediction function\n",
        "    def forward(self, x):\n",
        "        yhat = self.linear(x)\n",
        "        return yhat"
      ]
    },
    {
      "cell_type": "markdown",
      "metadata": {
        "id": "wofolt03kriU"
      },
      "source": [
        "Build a linear regression object. The input feature size is two.\n"
      ]
    },
    {
      "cell_type": "code",
      "execution_count": 11,
      "metadata": {
        "id": "c4dVY_aNkriV"
      },
      "outputs": [],
      "source": [
        "model = linear_regression(2, 1)"
      ]
    },
    {
      "cell_type": "markdown",
      "metadata": {
        "id": "U9Sthp-wkriV"
      },
      "source": [
        "This will input the following equation:\n"
      ]
    },
    {
      "cell_type": "markdown",
      "metadata": {
        "id": "v5Xo_25nkriV"
      },
      "source": [
        "<img src=\"https://s3-api.us-geo.objectstorage.softlayer.net/cf-courses-data/CognitiveClass/DL0110EN/notebook_images%20/chapter2/2.6.1_matrix_eq.png\" width=\"600\" alt=\"Matrix Linear Regression\" />\n"
      ]
    },
    {
      "cell_type": "markdown",
      "metadata": {
        "id": "Lg3ucARskriV"
      },
      "source": [
        "You can see the randomly initialized parameters by using the <code>parameters()</code> method:\n"
      ]
    },
    {
      "cell_type": "code",
      "execution_count": 12,
      "metadata": {
        "colab": {
          "base_uri": "https://localhost:8080/"
        },
        "id": "JNpOto4ZkriV",
        "outputId": "21e120d4-b9ea-4204-a165-8bb0e11dc22f"
      },
      "outputs": [
        {
          "output_type": "stream",
          "name": "stdout",
          "text": [
            "The parameters:  [Parameter containing:\n",
            "tensor([[ 0.3319, -0.6657]], requires_grad=True), Parameter containing:\n",
            "tensor([0.4241], requires_grad=True)]\n"
          ]
        }
      ],
      "source": [
        "# Print model parameters\n",
        "\n",
        "print(\"The parameters: \", list(model.parameters()))"
      ]
    },
    {
      "cell_type": "markdown",
      "metadata": {
        "id": "CyqmO6oTkriV"
      },
      "source": [
        "You can also see the parameters by using the <code>state_dict()</code> method:\n"
      ]
    },
    {
      "cell_type": "code",
      "execution_count": 13,
      "metadata": {
        "colab": {
          "base_uri": "https://localhost:8080/"
        },
        "id": "rK443bSkkriV",
        "outputId": "509f1f71-7602-497d-8e98-6206bcab75fc"
      },
      "outputs": [
        {
          "output_type": "stream",
          "name": "stdout",
          "text": [
            "The parameters:  OrderedDict([('linear.weight', tensor([[ 0.3319, -0.6657]])), ('linear.bias', tensor([0.4241]))])\n"
          ]
        }
      ],
      "source": [
        "# Print model parameters\n",
        "\n",
        "print(\"The parameters: \", model.state_dict())"
      ]
    },
    {
      "cell_type": "markdown",
      "metadata": {
        "id": "xTAb2NxVkriV"
      },
      "source": [
        "Now we input a 1x2 tensor, and we will get a 1x1 tensor.\n"
      ]
    },
    {
      "cell_type": "code",
      "execution_count": 14,
      "metadata": {
        "colab": {
          "base_uri": "https://localhost:8080/"
        },
        "id": "fjXXD7O6kriV",
        "outputId": "a222bfe5-0f62-4959-ecdd-0ff1eca7993b"
      },
      "outputs": [
        {
          "output_type": "stream",
          "name": "stdout",
          "text": [
            "The result:  tensor([[-0.5754]], grad_fn=<AddmmBackward0>)\n"
          ]
        }
      ],
      "source": [
        "# Make a prediction of x\n",
        "\n",
        "yhat = model(x)\n",
        "print(\"The result: \", yhat)"
      ]
    },
    {
      "cell_type": "markdown",
      "metadata": {
        "id": "m26wX3-bkriV"
      },
      "source": [
        "The shape of the output is shown in the following image:\n"
      ]
    },
    {
      "cell_type": "markdown",
      "metadata": {
        "id": "OKAm6zFckriW"
      },
      "source": [
        "<img src=\"https://s3-api.us-geo.objectstorage.softlayer.net/cf-courses-data/CognitiveClass/DL0110EN/notebook_images%20/chapter2/2.6.1_matrix_eq.png\" width=\"600\" alt=\"Matrix Linear Regression\" />\n"
      ]
    },
    {
      "cell_type": "markdown",
      "metadata": {
        "id": "1pB63HwTkriW"
      },
      "source": [
        "Make a prediction for multiple samples:\n"
      ]
    },
    {
      "cell_type": "code",
      "execution_count": 15,
      "metadata": {
        "colab": {
          "base_uri": "https://localhost:8080/"
        },
        "id": "pU-Bu_rBkriW",
        "outputId": "ecabbe7d-8c25-48d5-fb5c-cacbb69fed95"
      },
      "outputs": [
        {
          "output_type": "stream",
          "name": "stdout",
          "text": [
            "The result:  tensor([[ 0.0903],\n",
            "        [-0.5754],\n",
            "        [-1.2411]], grad_fn=<AddmmBackward0>)\n"
          ]
        }
      ],
      "source": [
        "# Make a prediction of X\n",
        "\n",
        "yhat = model(X)\n",
        "print(\"The result: \", yhat)"
      ]
    },
    {
      "cell_type": "markdown",
      "metadata": {
        "id": "vRO350LwkriW"
      },
      "source": [
        "The shape is shown in the following image:\n"
      ]
    },
    {
      "cell_type": "markdown",
      "metadata": {
        "id": "13z8kXJLkriW"
      },
      "source": [
        "<img src=\"https://s3-api.us-geo.objectstorage.softlayer.net/cf-courses-data/CognitiveClass/DL0110EN/notebook_images%20/chapter2/2.6.1Multi_sample.png\" width=\"600\" alt=\"Multiple Samples Linear Regression\" />\n"
      ]
    },
    {
      "cell_type": "markdown",
      "metadata": {
        "id": "1gBZdbs7kriW"
      },
      "source": [
        "<!--Empty Space for separating topics-->\n"
      ]
    },
    {
      "cell_type": "markdown",
      "metadata": {
        "id": "VosLXmClkriW"
      },
      "source": [
        "<h3>Practice</h3>\n"
      ]
    },
    {
      "cell_type": "markdown",
      "metadata": {
        "id": "57qkg0rRkriW"
      },
      "source": [
        "Build a model or object of type <code>linear_regression</code>. Using the <code>linear_regression</code> object will predict the following tensor:\n"
      ]
    },
    {
      "cell_type": "code",
      "execution_count": 16,
      "metadata": {
        "id": "F5sFaSB3kriW"
      },
      "outputs": [],
      "source": [
        "# Practice: Build a model to predict the follow tensor.\n",
        "\n",
        "X = torch.tensor([[11.0, 12.0, 13, 14], [11, 12, 13, 14]])"
      ]
    },
    {
      "cell_type": "code",
      "source": [
        "model = linear_regression(4, 1)\n",
        "model(X)"
      ],
      "metadata": {
        "colab": {
          "base_uri": "https://localhost:8080/"
        },
        "id": "ykq3pDnxk84J",
        "outputId": "5f581730-3985-484e-a56f-b29cc3f87132"
      },
      "execution_count": 17,
      "outputs": [
        {
          "output_type": "execute_result",
          "data": {
            "text/plain": [
              "tensor([[2.1062],\n",
              "        [2.1062]], grad_fn=<AddmmBackward0>)"
            ]
          },
          "metadata": {},
          "execution_count": 17
        }
      ]
    },
    {
      "cell_type": "markdown",
      "metadata": {
        "id": "t0-NX1EUkriW"
      },
      "source": [
        "Double-click <b>here</b> for the solution.\n",
        "\n",
        "<!-- Your answer is below:\n",
        "model = linear_regression(4, 1)\n",
        "yhat = model(X)\n",
        "print(\"The result: \", yhat)\n",
        "-->\n"
      ]
    },
    {
      "cell_type": "markdown",
      "metadata": {
        "id": "Dg35LDZUkriW"
      },
      "source": [
        "<a href=\"https://dataplatform.cloud.ibm.com/registration/stepone?utm_medium=Exinfluencer&utm_source=Exinfluencer&utm_content=000026UJ&utm_term=10006555&utm_id=NA-SkillsNetwork-Channel-SkillsNetworkCoursesIBMDeveloperSkillsNetworkDL0110ENSkillsNetwork20647811-2022-01-01&context=cpdaas&apps=data_science_experience%2Cwatson_machine_learning\"><img src=\"https://cf-courses-data.s3.us.cloud-object-storage.appdomain.cloud/IBMDeveloperSkillsNetwork-DL0110EN-SkillsNetwork/Template/module%201/images/Watson_Studio.png\"/></a>\n"
      ]
    },
    {
      "cell_type": "markdown",
      "metadata": {
        "id": "p3kvRgBUkriX"
      },
      "source": [
        "<!--Empty Space for separating topics-->\n"
      ]
    },
    {
      "cell_type": "markdown",
      "metadata": {
        "id": "-Fmao6YdkriX"
      },
      "source": [
        "<h2>About the Authors:</h2> \n",
        "\n",
        "<a href=\"https://www.linkedin.com/in/joseph-s-50398b136/?utm_medium=Exinfluencer&utm_source=Exinfluencer&utm_content=000026UJ&utm_term=10006555&utm_id=NA-SkillsNetwork-Channel-SkillsNetworkCoursesIBMDeveloperSkillsNetworkDL0110ENSkillsNetwork20647811-2022-01-01\">Joseph Santarcangelo</a> has a PhD in Electrical Engineering, his research focused on using machine learning, signal processing, and computer vision to determine how videos impact human cognition. Joseph has been working for IBM since he completed his PhD.\n"
      ]
    },
    {
      "cell_type": "markdown",
      "metadata": {
        "id": "6egDh4-hkriX"
      },
      "source": [
        "Other contributors: <a href=\"https://www.linkedin.com/in/michelleccarey/?utm_medium=Exinfluencer&utm_source=Exinfluencer&utm_content=000026UJ&utm_term=10006555&utm_id=NA-SkillsNetwork-Channel-SkillsNetworkCoursesIBMDeveloperSkillsNetworkDL0110ENSkillsNetwork20647811-2022-01-01\">Michelle Carey</a>, <a href=\"https://www.linkedin.com/in/jiahui-mavis-zhou-a4537814a?utm_medium=Exinfluencer&utm_source=Exinfluencer&utm_content=000026UJ&utm_term=10006555&utm_id=NA-SkillsNetwork-Channel-SkillsNetworkCoursesIBMDeveloperSkillsNetworkDL0110ENSkillsNetwork20647811-2022-01-01\">Mavis Zhou</a>\n"
      ]
    },
    {
      "cell_type": "markdown",
      "metadata": {
        "id": "iNgd3s1UkriX"
      },
      "source": [
        "## Change Log\n",
        "\n",
        "| Date (YYYY-MM-DD) | Version | Changed By | Change Description                                          |\n",
        "| ----------------- | ------- | ---------- | ----------------------------------------------------------- |\n",
        "| 2020-09-23        | 2.0     | Shubham    | Migrated Lab to Markdown and added to course repo in GitLab |\n"
      ]
    },
    {
      "cell_type": "markdown",
      "metadata": {
        "id": "jd72f21QkriX"
      },
      "source": [
        "<hr>\n"
      ]
    },
    {
      "cell_type": "markdown",
      "metadata": {
        "id": "XATHeL2LkriX"
      },
      "source": [
        "## <h3 align=\"center\"> © IBM Corporation 2020. All rights reserved. <h3/>\n"
      ]
    }
  ],
  "metadata": {
    "kernelspec": {
      "display_name": "Python 3",
      "language": "python",
      "name": "python3"
    },
    "language_info": {
      "codemirror_mode": {
        "name": "ipython",
        "version": 3
      },
      "file_extension": ".py",
      "mimetype": "text/x-python",
      "name": "python",
      "nbconvert_exporter": "python",
      "pygments_lexer": "ipython3",
      "version": "3.7.6"
    },
    "colab": {
      "name": "4.1.multiple_linear_regression_prediction_v2.ipynb",
      "provenance": []
    },
    "accelerator": "GPU",
    "gpuClass": "standard"
  },
  "nbformat": 4,
  "nbformat_minor": 0
}