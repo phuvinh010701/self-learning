{
  "cells": [
    {
      "cell_type": "markdown",
      "metadata": {
        "id": "lXnDliMn7sTx"
      },
      "source": [
        "<p style=\"text-align:center\">\n",
        "    <a href=\"https://skills.network/?utm_medium=Exinfluencer&utm_source=Exinfluencer&utm_content=000026UJ&utm_term=10006555&utm_id=NA-SkillsNetwork-Channel-SkillsNetworkCoursesIBMDeveloperSkillsNetworkDL0110ENSkillsNetwork20647811-2022-01-01\" target=\"_blank\">\n",
        "    <img src=\"https://cf-courses-data.s3.us.cloud-object-storage.appdomain.cloud/assets/logos/SN_web_lightmode.png\" width=\"200\" alt=\"Skills Network Logo\"  />\n",
        "    </a>\n",
        "</p>\n"
      ]
    },
    {
      "cell_type": "markdown",
      "metadata": {
        "id": "CvJEM3CZ7sT1"
      },
      "source": [
        "<h1>Linear regression 1D: Training Two Parameter</h1>\n"
      ]
    },
    {
      "cell_type": "markdown",
      "metadata": {
        "id": "ADhMlP-n7sT2"
      },
      "source": [
        "<h2>Objective</h2><ul><li> How to train the model and visualize the loss results.</li></ul> \n"
      ]
    },
    {
      "cell_type": "markdown",
      "metadata": {
        "id": "rnvsLW--7sT2"
      },
      "source": [
        "<h2>Table of Contents</h2>\n",
        "<p>In this lab, you will train a model with PyTorch by using the data that we created. The model will have the slope and bias. And we will review how to make a prediction in several different ways by using PyTorch.</p>\n",
        "\n",
        "<ul>\n",
        "    <li><a href=\"https://#Makeup_Data\">Make Some Data</a></li>\n",
        "    <li><a href=\"https://#Model_Cost\">Create the Model and Cost Function (Total Loss) </a></li>\n",
        "    <li><a href=\"https://#Train\">Train the Model </a></li>\n",
        "</ul>\n",
        "<p>Estimated Time Needed: <strong>20 min</strong></ul>\n",
        "\n",
        "<hr>\n"
      ]
    },
    {
      "cell_type": "markdown",
      "metadata": {
        "id": "YfJ7msIZ7sT3"
      },
      "source": [
        "<h2>Preparation</h2>\n"
      ]
    },
    {
      "cell_type": "markdown",
      "metadata": {
        "id": "MkLUAecv7sT3"
      },
      "source": [
        "We'll need the following libraries:\n"
      ]
    },
    {
      "cell_type": "code",
      "execution_count": 1,
      "metadata": {
        "id": "-zNkniY27sT4"
      },
      "outputs": [],
      "source": [
        "# These are the libraries we are going to use in the lab.\n",
        "\n",
        "import numpy as np\n",
        "import matplotlib.pyplot as plt\n",
        "from mpl_toolkits import mplot3d"
      ]
    },
    {
      "cell_type": "markdown",
      "metadata": {
        "id": "IlMhqgDR7sT5"
      },
      "source": [
        "The class <code>plot_error_surfaces</code> is just to help you visualize the data space and the parameter space during training and has nothing to do with PyTorch.\n"
      ]
    },
    {
      "cell_type": "code",
      "execution_count": 2,
      "metadata": {
        "id": "pss1IGFC7sT5"
      },
      "outputs": [],
      "source": [
        "# The class for plot the diagram\n",
        "\n",
        "class plot_error_surfaces(object):\n",
        "    \n",
        "    # Constructor\n",
        "    def __init__(self, w_range, b_range, X, Y, n_samples = 30, go = True):\n",
        "        W = np.linspace(-w_range, w_range, n_samples)\n",
        "        B = np.linspace(-b_range, b_range, n_samples)\n",
        "        w, b = np.meshgrid(W, B)    \n",
        "        Z = np.zeros((30,30))\n",
        "        count1 = 0\n",
        "        self.y = Y.numpy()\n",
        "        self.x = X.numpy()\n",
        "        for w1, b1 in zip(w, b):\n",
        "            count2 = 0\n",
        "            for w2, b2 in zip(w1, b1):\n",
        "                Z[count1, count2] = np.mean((self.y - w2 * self.x + b2) ** 2)\n",
        "                count2 += 1\n",
        "            count1 += 1\n",
        "        self.Z = Z\n",
        "        self.w = w\n",
        "        self.b = b\n",
        "        self.W = []\n",
        "        self.B = []\n",
        "        self.LOSS = []\n",
        "        self.n = 0\n",
        "        if go == True:\n",
        "            plt.figure()\n",
        "            plt.figure(figsize = (7.5, 5))\n",
        "            plt.axes(projection='3d').plot_surface(self.w, self.b, self.Z, rstride = 1, cstride = 1,cmap = 'viridis', edgecolor = 'none')\n",
        "            plt.title('Cost/Total Loss Surface')\n",
        "            plt.xlabel('w')\n",
        "            plt.ylabel('b')\n",
        "            plt.show()\n",
        "            plt.figure()\n",
        "            plt.title('Cost/Total Loss Surface Contour')\n",
        "            plt.xlabel('w')\n",
        "            plt.ylabel('b')\n",
        "            plt.contour(self.w, self.b, self.Z)\n",
        "            plt.show()\n",
        "    \n",
        "    # Setter\n",
        "    def set_para_loss(self, W, B, loss):\n",
        "        self.n = self.n + 1\n",
        "        self.W.append(W)\n",
        "        self.B.append(B)\n",
        "        self.LOSS.append(loss)\n",
        "    \n",
        "    # Plot diagram\n",
        "    def final_plot(self): \n",
        "        ax = plt.axes(projection = '3d')\n",
        "        ax.plot_wireframe(self.w, self.b, self.Z)\n",
        "        ax.scatter(self.W,self.B, self.LOSS, c = 'r', marker = 'x', s = 200, alpha = 1)\n",
        "        plt.figure()\n",
        "        plt.contour(self.w,self.b, self.Z)\n",
        "        plt.scatter(self.W, self.B, c = 'r', marker = 'x')\n",
        "        plt.xlabel('w')\n",
        "        plt.ylabel('b')\n",
        "        plt.show()\n",
        "    \n",
        "    # Plot diagram\n",
        "    def plot_ps(self):\n",
        "        plt.subplot(121)\n",
        "        plt.ylim\n",
        "        plt.plot(self.x, self.y, 'ro', label=\"training points\")\n",
        "        plt.plot(self.x, self.W[-1] * self.x + self.B[-1], label = \"estimated line\")\n",
        "        plt.xlabel('x')\n",
        "        plt.ylabel('y')\n",
        "        plt.ylim((-10, 15))\n",
        "        plt.title('Data Space Iteration: ' + str(self.n))\n",
        "\n",
        "        plt.subplot(122)\n",
        "        plt.contour(self.w, self.b, self.Z)\n",
        "        plt.scatter(self.W, self.B, c = 'r', marker = 'x')\n",
        "        plt.title('Total Loss Surface Contour Iteration' + str(self.n))\n",
        "        plt.xlabel('w')\n",
        "        plt.ylabel('b')\n",
        "        plt.show()"
      ]
    },
    {
      "cell_type": "markdown",
      "metadata": {
        "id": "nt94T9Vd7sT7"
      },
      "source": [
        "<!--Empty Space for separating topics-->\n"
      ]
    },
    {
      "cell_type": "markdown",
      "metadata": {
        "id": "2Xse2VWK7sT7"
      },
      "source": [
        "<h2 id=\"Makeup_Data\">Make Some Data</h2>\n"
      ]
    },
    {
      "cell_type": "markdown",
      "metadata": {
        "id": "bBMgjt8u7sT7"
      },
      "source": [
        "Import PyTorch:\n"
      ]
    },
    {
      "cell_type": "code",
      "execution_count": 3,
      "metadata": {
        "id": "7BOuxI4Q7sT7"
      },
      "outputs": [],
      "source": [
        "# Import PyTorch library\n",
        "\n",
        "import torch"
      ]
    },
    {
      "cell_type": "markdown",
      "metadata": {
        "id": "RkQBxvI37sT8"
      },
      "source": [
        "Start with generating values from -3 to 3 that create a line with a slope of 1 and a bias of -1. This is the line that you need to estimate.\n"
      ]
    },
    {
      "cell_type": "code",
      "execution_count": 4,
      "metadata": {
        "id": "GJNM6I287sT8"
      },
      "outputs": [],
      "source": [
        "# Create f(X) with a slope of 1 and a bias of -1\n",
        "\n",
        "X = torch.arange(-3, 3, 0.1).view(-1, 1)\n",
        "f = 1 * X - 1"
      ]
    },
    {
      "cell_type": "markdown",
      "metadata": {
        "id": "0kCMmG787sT8"
      },
      "source": [
        "Now, add some noise to the data:\n"
      ]
    },
    {
      "cell_type": "code",
      "execution_count": 5,
      "metadata": {
        "id": "vxO_n5UE7sT9"
      },
      "outputs": [],
      "source": [
        "# Add noise\n",
        "\n",
        "Y = f + 0.1 * torch.randn(X.size())"
      ]
    },
    {
      "cell_type": "markdown",
      "metadata": {
        "id": "QOC70SEz7sT9"
      },
      "source": [
        "Plot the line and <code>Y</code> with noise:\n"
      ]
    },
    {
      "cell_type": "code",
      "execution_count": 6,
      "metadata": {
        "colab": {
          "base_uri": "https://localhost:8080/",
          "height": 296
        },
        "id": "bcGb-grO7sT9",
        "outputId": "a47337ae-9b0b-4dde-d7eb-83805fe0a4a6"
      },
      "outputs": [
        {
          "data": {
            "text/plain": [
              "<matplotlib.legend.Legend at 0x7fa8ecc3b1d0>"
            ]
          },
          "execution_count": 6,
          "metadata": {},
          "output_type": "execute_result"
        },
        {
          "data": {
            "image/png": "[encoded data removed]",
            "text/plain": [
              "<Figure size 432x288 with 1 Axes>"
            ]
          },
          "metadata": {
            "needs_background": "light"
          },
          "output_type": "display_data"
        }
      ],
      "source": [
        "# Plot out the line and the points with noise\n",
        "\n",
        "plt.plot(X.numpy(), Y.numpy(), 'rx', label = 'y')\n",
        "plt.plot(X.numpy(), f.numpy(), label = 'f')\n",
        "plt.xlabel('x')\n",
        "plt.ylabel('y')\n",
        "plt.legend()"
      ]
    },
    {
      "cell_type": "markdown",
      "metadata": {
        "id": "Zvkh93Fl7sT9"
      },
      "source": [
        "<h2 id=\"Model_Cost\">Create the Model and Cost Function (Total Loss)</h2>\n"
      ]
    },
    {
      "cell_type": "markdown",
      "metadata": {
        "id": "lShVa1wV7sT-"
      },
      "source": [
        "Define the <code>forward</code> function:\n"
      ]
    },
    {
      "cell_type": "code",
      "execution_count": 7,
      "metadata": {
        "id": "LnSqjEXm7sT-"
      },
      "outputs": [],
      "source": [
        "# Define the forward function\n",
        "\n",
        "def forward(x):\n",
        "    return w * x + b"
      ]
    },
    {
      "cell_type": "markdown",
      "metadata": {
        "id": "K3TSS7QX7sT-"
      },
      "source": [
        "Define the cost or criterion function (MSE):\n"
      ]
    },
    {
      "cell_type": "code",
      "execution_count": 8,
      "metadata": {
        "id": "E7eiqBAE7sT-"
      },
      "outputs": [],
      "source": [
        "# Define the MSE Loss function\n",
        "\n",
        "def criterion(yhat,y):\n",
        "    return torch.mean((yhat-y)**2)"
      ]
    },
    {
      "cell_type": "markdown",
      "metadata": {
        "id": "6r2YP48u7sT_"
      },
      "source": [
        "Create a <code> plot_error_surfaces</code> object to visualize the data space and the parameter space during training:\n"
      ]
    },
    {
      "cell_type": "code",
      "execution_count": null,
      "metadata": {
        "colab": {
          "base_uri": "https://localhost:8080/",
          "height": 598
        },
        "id": "a0T9wiuR7sT_",
        "outputId": "b8ac227c-b17a-4212-d507-b8ed987237f3"
      },
      "outputs": [],
      "source": [
        "# Create plot_error_surfaces for viewing the data\n",
        "\n",
        "get_surface = plot_error_surfaces(15, 15, X, Y, 30)"
      ]
    },
    {
      "cell_type": "markdown",
      "metadata": {
        "id": "AflIBlDI7sT_"
      },
      "source": [
        "<!--Empty Space for separating topics-->\n"
      ]
    },
    {
      "cell_type": "markdown",
      "metadata": {
        "id": "S9M4HZaZ7sT_"
      },
      "source": [
        "<h2 id=\"Train\">Train the Model</h2>\n"
      ]
    },
    {
      "cell_type": "markdown",
      "metadata": {
        "id": "VSCAg4q97sT_"
      },
      "source": [
        "Create model parameters <code>w</code>, <code>b</code> by setting the argument <code>requires_grad</code> to True because we must learn it using the data.\n"
      ]
    },
    {
      "cell_type": "code",
      "execution_count": 10,
      "metadata": {
        "id": "onZuhr4D7sT_"
      },
      "outputs": [],
      "source": [
        "# Define the parameters w, b for y = wx + b\n",
        "\n",
        "w = torch.tensor(-15.0, requires_grad = True)\n",
        "b = torch.tensor(-10.0, requires_grad = True)"
      ]
    },
    {
      "cell_type": "markdown",
      "metadata": {
        "id": "TkCnGv-67sUA"
      },
      "source": [
        "Set the learning rate to 0.1 and create an empty list <code>LOSS</code> for storing the loss for each iteration.\n"
      ]
    },
    {
      "cell_type": "code",
      "execution_count": 19,
      "metadata": {
        "id": "3Ik8JA0x7sUA"
      },
      "outputs": [],
      "source": [
        "# Define learning rate and create an empty list for containing the loss for each iteration.\n",
        "\n",
        "lr = 0.1\n",
        "LOSS = []"
      ]
    },
    {
      "cell_type": "markdown",
      "metadata": {
        "id": "x_Reo6xl7sUA"
      },
      "source": [
        "Define <code>train_model</code> function for train the model.\n"
      ]
    },
    {
      "cell_type": "code",
      "execution_count": 20,
      "metadata": {
        "id": "5uIQM6Ym7sUA"
      },
      "outputs": [],
      "source": [
        "# The function for training the model\n",
        "\n",
        "def train_model(iter):\n",
        "    \n",
        "    # Loop\n",
        "    for epoch in range(iter):\n",
        "        \n",
        "        # make a prediction\n",
        "        Yhat = forward(X)\n",
        "        \n",
        "        # calculate the loss \n",
        "        loss = criterion(Yhat, Y)\n",
        "\n",
        "        # Section for plotting\n",
        "        get_surface.set_para_loss(w.data.tolist(), b.data.tolist(), loss.tolist())\n",
        "        if epoch % 3 == 0:\n",
        "            get_surface.plot_ps()\n",
        "            \n",
        "        # store the loss in the list LOSS\n",
        "        LOSS.append(loss.detach().numpy())\n",
        "        \n",
        "        # backward pass: compute gradient of the loss with respect to all the learnable parameters\n",
        "        loss.backward()\n",
        "        \n",
        "        # update parameters slope and bias\n",
        "        w.data = w.data - lr * w.grad.data\n",
        "        b.data = b.data - lr * b.grad.data\n",
        "        \n",
        "        # zero the gradients before running the backward pass\n",
        "        w.grad.data.zero_()\n",
        "        b.grad.data.zero_()"
      ]
    },
    {
      "cell_type": "markdown",
      "metadata": {
        "id": "RLaaYsqG7sUA"
      },
      "source": [
        "Run 15 iterations of gradient descent: <b>bug</b> data space is 1 iteration ahead of parameter space\n"
      ]
    },
    {
      "cell_type": "code",
      "execution_count": null,
      "metadata": {
        "colab": {
          "base_uri": "https://localhost:8080/",
          "height": 1000
        },
        "id": "jCpK7Q3x7sUA",
        "outputId": "f9ae847f-e173-41f5-c98c-22cd9ef88948"
      },
      "outputs": [],
      "source": [
        "# Train the model with 15 iterations\n",
        "\n",
        "train_model(15)"
      ]
    },
    {
      "cell_type": "markdown",
      "metadata": {
        "id": "AsAqGb2k7sUA"
      },
      "source": [
        "Plot total loss/cost surface with loss values for different parameters in red:\n"
      ]
    },
    {
      "cell_type": "code",
      "execution_count": null,
      "metadata": {
        "colab": {
          "base_uri": "https://localhost:8080/",
          "height": 825
        },
        "id": "IDTjg9i-7sUA",
        "outputId": "824d9fc9-c162-4ec5-f24c-cbc09f8390c8"
      },
      "outputs": [],
      "source": [
        "# Plot out the Loss Result\n",
        "\n",
        "get_surface.final_plot()\n",
        "plt.plot(LOSS)\n",
        "plt.tight_layout()\n",
        "plt.xlabel(\"Epoch/Iterations\")\n",
        "plt.ylabel(\"Cost\")"
      ]
    },
    {
      "cell_type": "markdown",
      "metadata": {
        "id": "Mdc8DiD37sUB"
      },
      "source": [
        "<!--Empty Space for separating topics-->\n"
      ]
    },
    {
      "cell_type": "markdown",
      "metadata": {
        "id": "c2S8HgdY7sUB"
      },
      "source": [
        "<h3>Practice</h3>\n"
      ]
    },
    {
      "cell_type": "markdown",
      "metadata": {
        "id": "grC97SxJ7sUB"
      },
      "source": [
        "Experiment using s learning rates 0.2 and width the following parameters. Run 15 iterations.\n"
      ]
    },
    {
      "cell_type": "code",
      "execution_count": 27,
      "metadata": {
        "id": "opEqOtbg7sUB"
      },
      "outputs": [],
      "source": [
        "# Practice: train and plot the result with lr = 0.2 and the following parameters\n",
        "\n",
        "w = torch.tensor(-15.0, requires_grad = True)\n",
        "b = torch.tensor(-10.0, requires_grad = True)\n",
        "lr = 0.2\n",
        "LOSS2 = []"
      ]
    },
    {
      "cell_type": "code",
      "execution_count": null,
      "metadata": {
        "colab": {
          "base_uri": "https://localhost:8080/",
          "height": 1000
        },
        "id": "ArMhrLYz9jbZ",
        "outputId": "8bb7ffb8-8902-49b0-bbb4-f7e8bf309742"
      },
      "outputs": [],
      "source": [
        "def train_(iters):\n",
        "  for epoch in range(iters):\n",
        "      Yhat = forward(X)\n",
        "      loss = criterion(Yhat, Y)\n",
        "      get_surface.set_para_loss(w.data.tolist(), b.data.tolist(), loss.tolist())\n",
        "      if epoch % 3 == 0:\n",
        "          get_surface.plot_ps()\n",
        "      LOSS2.append(loss.detach().numpy())\n",
        "      loss.backward()\n",
        "      w.data = w.data - lr * w.grad.data\n",
        "      b.data = b.data - lr * b.grad.data\n",
        "      w.grad.data.zero_()\n",
        "      b.grad.data.zero_()\n",
        "\n",
        "train_(15)"
      ]
    },
    {
      "cell_type": "markdown",
      "metadata": {
        "id": "OeN3togP7sUB"
      },
      "source": [
        "Double-click <b>here</b> for the solution.\n",
        "\n",
        "<!-- \n",
        "def my_train_model(iter):\n",
        "    for epoch in range(iter):\n",
        "        Yhat = forward(X)\n",
        "        loss = criterion(Yhat, Y)\n",
        "        get_surface.set_para_loss(w.data.tolist(), b.data.tolist(), loss.tolist())\n",
        "        if epoch % 3 == 0:\n",
        "            get_surface.plot_ps()\n",
        "        LOSS2.append(loss)\n",
        "        loss.backward()\n",
        "        w.data = w.data - lr * w.grad.data\n",
        "        b.data = b.data - lr * b.grad.data\n",
        "        w.grad.data.zero_()\n",
        "        b.grad.data.zero_()\n",
        "my_train_model(15)\n",
        "-->\n"
      ]
    },
    {
      "cell_type": "markdown",
      "metadata": {
        "id": "MIFRA-HU7sUB"
      },
      "source": [
        "Plot the <code>LOSS</code> and <code>LOSS2</code>\n"
      ]
    },
    {
      "cell_type": "code",
      "execution_count": null,
      "metadata": {
        "colab": {
          "base_uri": "https://localhost:8080/",
          "height": 328
        },
        "id": "5vfxaQBg7sUB",
        "outputId": "366b741d-55ff-45bc-ab73-9062eaf3fb35"
      },
      "outputs": [],
      "source": [
        "# Practice: Plot the LOSS and LOSS2 in order to compare the Total Loss\n",
        "\n",
        "# Type your code here\n",
        "plt.plot(LOSS, label = \"LOSS\")\n",
        "plt.plot(LOSS2, label = \"LOSS2\")\n",
        "plt.tight_layout()\n",
        "plt.xlabel(\"Epoch/Iterations\")\n",
        "plt.ylabel(\"Cost\")\n",
        "plt.legend()"
      ]
    },
    {
      "cell_type": "markdown",
      "metadata": {
        "id": "Yv8oPxnO7sUC"
      },
      "source": [
        "Double-click <b>here</b> for the solution.\n",
        "\n",
        "<!--\n",
        "plt.plot(LOSS, label = \"LOSS\")\n",
        "plt.plot(LOSS2, label = \"LOSS2\")\n",
        "plt.tight_layout()\n",
        "plt.xlabel(\"Epoch/Iterations\")\n",
        "plt.ylabel(\"Cost\")\n",
        "plt.legend()\n",
        "-->\n"
      ]
    },
    {
      "cell_type": "markdown",
      "metadata": {
        "id": "bLe1cWru7sUC"
      },
      "source": [
        "<a href=\"https://dataplatform.cloud.ibm.com/registration/stepone?utm_medium=Exinfluencer&utm_source=Exinfluencer&utm_content=000026UJ&utm_term=10006555&utm_id=NA-SkillsNetwork-Channel-SkillsNetworkCoursesIBMDeveloperSkillsNetworkDL0110ENSkillsNetwork20647811-2022-01-01&context=cpdaas&apps=data_science_experience%2Cwatson_machine_learning\"><img src=\"https://cf-courses-data.s3.us.cloud-object-storage.appdomain.cloud/IBMDeveloperSkillsNetwork-DL0110EN-SkillsNetwork/Template/module%201/images/Watson_Studio.png\"/></a>\n"
      ]
    },
    {
      "cell_type": "markdown",
      "metadata": {
        "id": "6h2RZHjk7sUC"
      },
      "source": [
        "<!--Empty Space for separating topics-->\n"
      ]
    },
    {
      "cell_type": "markdown",
      "metadata": {
        "id": "A6aTZdN17sUC"
      },
      "source": [
        "<h2>About the Authors:</h2> \n",
        "\n",
        "<a href=\"https://www.linkedin.com/in/joseph-s-50398b136/?utm_medium=Exinfluencer&utm_source=Exinfluencer&utm_content=000026UJ&utm_term=10006555&utm_id=NA-SkillsNetwork-Channel-SkillsNetworkCoursesIBMDeveloperSkillsNetworkDL0110ENSkillsNetwork20647811-2022-01-01\">Joseph Santarcangelo</a> has a PhD in Electrical Engineering, his research focused on using machine learning, signal processing, and computer vision to determine how videos impact human cognition. Joseph has been working for IBM since he completed his PhD.\n"
      ]
    },
    {
      "cell_type": "markdown",
      "metadata": {
        "id": "BPRjXaYi7sUC"
      },
      "source": [
        "Other contributors: <a href=\"https://www.linkedin.com/in/michelleccarey/?utm_medium=Exinfluencer&utm_source=Exinfluencer&utm_content=000026UJ&utm_term=10006555&utm_id=NA-SkillsNetwork-Channel-SkillsNetworkCoursesIBMDeveloperSkillsNetworkDL0110ENSkillsNetwork20647811-2022-01-01\">Michelle Carey</a>, <a href=\"https://www.linkedin.com/in/jiahui-mavis-zhou-a4537814a?utm_medium=Exinfluencer&utm_source=Exinfluencer&utm_content=000026UJ&utm_term=10006555&utm_id=NA-SkillsNetwork-Channel-SkillsNetworkCoursesIBMDeveloperSkillsNetworkDL0110ENSkillsNetwork20647811-2022-01-01\">Mavis Zhou</a>\n"
      ]
    },
    {
      "cell_type": "markdown",
      "metadata": {
        "id": "WU9eHFJQ7sUC"
      },
      "source": [
        "## Change Log\n",
        "\n",
        "| Date (YYYY-MM-DD) | Version | Changed By | Change Description                                          |\n",
        "| ----------------- | ------- | ---------- | ----------------------------------------------------------- |\n",
        "| 2020-09-21        | 2.0     | Shubham    | Migrated Lab to Markdown and added to course repo in GitLab |\n"
      ]
    },
    {
      "cell_type": "markdown",
      "metadata": {
        "id": "f1015Fcv7sUC"
      },
      "source": [
        "<hr>\n"
      ]
    },
    {
      "cell_type": "markdown",
      "metadata": {
        "id": "inIeMEQg7sUC"
      },
      "source": [
        "## <h3 align=\"center\"> © IBM Corporation 2020. All rights reserved. <h3/>\n"
      ]
    }
  ],
  "metadata": {
    "colab": {
      "name": "2.3_training_slope_and_bias_v3.ipynb",
      "provenance": []
    },
    "kernelspec": {
      "display_name": "Python 3",
      "language": "python",
      "name": "python3"
    },
    "language_info": {
      "codemirror_mode": {
        "name": "ipython",
        "version": 3
      },
      "file_extension": ".py",
      "mimetype": "text/x-python",
      "name": "python",
      "nbconvert_exporter": "python",
      "pygments_lexer": "ipython3",
      "version": "3.7.6"
    }
  },
  "nbformat": 4,
  "nbformat_minor": 0
}
